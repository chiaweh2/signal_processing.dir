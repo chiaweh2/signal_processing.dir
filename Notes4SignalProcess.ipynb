{
 "cells": [
  {
   "cell_type": "markdown",
   "metadata": {},
   "source": [
    "# Signal processing of GRACE satellite data"
   ]
  },
  {
   "cell_type": "markdown",
   "metadata": {},
   "source": [
    "The GRACE satellite data has been used for more than a decade to investigate the global-scale mass redistribution since April 2002.\n",
    "With the Follow-on mission which had recently (5/22/2018) been launched, the extended measurement is truly an important achievement in the field of Earth geodesy, hydrology, and cryosphere.\n",
    "\n",
    "To make use of this incredible dataset, one must know first what are the data currently out there. \n",
    "There are three processing centers that provides the GRACE data retrieval.\n",
    "The three centers are CSR (Center of Space Research) at UT-Austin, GFZ (Deutsches GeoForschungsZentrum) at Potsdom, Germany, and JPL (Jet Propulsion Laboratory) at NASA/Caltech.\n",
    "Each processing center provides the gravitational anomaly on the Earth from the retrieval, which can be further transformed to mass anomaly.\n",
    "Gravitational anomaly derivded from different centers also provide an opportunity for an inter-comparison on the different processing applied during the retrieval.\n",
    "\n",
    "Besides different centers, there are two kinds of solution available nowadays. One is in the form of Stoke's coefficients (spherical harmonic coefficients - will refer to it as SH below) which represents the gravitational anomaly in the spectral domain. This representation provides a easier way to compare with the measured geoid anomaly in the past, which is usually in this format. The other is in the form of gridded data (mass concentration block - will refer to it as MASCON below) which reprsents the mass anomaly in the spatial domain. This representation is considered easier to understand and to used by the scientist who only wants to understand the mass anomaly changes at a specific location on the Earth. Both products has its merit and problem. For detail derivation, one can take a look at the [Wahr and Molenaar, 1998](https://agupubs.onlinelibrary.wiley.com/doi/10.1029/98JB02844) for SH solution and [Watkins et al., 2015](https://agupubs.onlinelibrary.wiley.com/doi/full/10.1002/2014JB011547) for MASCON solution. \n",
    "\n",
    "To make use of the data, one also need to understand some of the errors that might be generated during the processing steps or post-processing steps. From here on, I will mainly use the SH solution to demostrate the possible effect or error in the gravitational/mass anomaly solutions. Some of the effect or error are also applicable to the MASCON solutions just that the method to deal with it is different. \n",
    "\n",
    "\n",
    "Let's first take a look at the solution that downloaded directly from the [PODAAC/NASA ftp server](ftp://podaac.jpl.nasa.gov/allData/grace/L2). On the same ftp server, you can also find a [doc directory](ftp://podaac.jpl.nasa.gov/allData/grace/docs/) providing various explanation related to the dataset. \n",
    "The first three letters provide the covered area. EX: **GSM** (the one we are using) is the global solution with atmospheric and non-tidal dynamic ocean signal removed, **GAD** (also the one we are using) is the solution only contain the non-tidal dynamic ocean signal. The folloing numbers **YYYYDDD-YYYYDDD** represent period of the observation where **YYYY** is year and  **DDD** is days in one year. The rest is mainly related to the processing center id and the version of the solutions. \n",
    "\n",
    "The data is in ascii format so it is easy to open with any text editor. Here, I will load the data using *python pandas package* to demostrate the data structure. "
   ]
  },
  {
   "cell_type": "code",
   "execution_count": 11,
   "metadata": {},
   "outputs": [],
   "source": [
    "import pandas as pd\n",
    "import numpy as np\n",
    "from datetime import datetime "
   ]
  },
  {
   "cell_type": "markdown",
   "metadata": {},
   "source": [
    "### Read the dataset"
   ]
  },
  {
   "cell_type": "code",
   "execution_count": 20,
   "metadata": {},
   "outputs": [],
   "source": [
    "f = open('GSM-2_2015345-2016003_0024_UTCSR_0060_0005', 'r')\n",
    "i=0\n",
    "lines=[]\n",
    "for line in f :\n",
    "    i+=1\n",
    "    line.split()\n",
    "    if i > 6:                               # skip the header info\n",
    "        lines.append(line.split()[1:1+6])   # only need the col 2~9\n",
    "\n",
    "nelements=len(lines[0])\n",
    "nlines=len(lines)\n",
    "data=np.array(lines,dtype=np.float64)      "
   ]
  },
  {
   "cell_type": "markdown",
   "metadata": {},
   "source": [
    "### Create the timestamp during the measurement period"
   ]
  },
  {
   "cell_type": "code",
   "execution_count": 50,
   "metadata": {},
   "outputs": [
    {
     "name": "stdout",
     "output_type": "stream",
     "text": [
      "[datetime.datetime(2015, 12, 11, 0, 0), datetime.datetime(2016, 1, 4, 0, 0)]\n"
     ]
    }
   ],
   "source": [
    "start,end=np.array(line.split()[7:9], dtype=float)\n",
    "start=int(start)\n",
    "end=int(end)\n",
    "tstamp=[]\n",
    "i=0\n",
    "for time in [start,end]:\n",
    "    year=time/10000\n",
    "    mon=time/100-year*100\n",
    "    day=time-year*10000-mon*100\n",
    "    tstamp.append(datetime(year,mon,day))\n",
    "    i+=1\n",
    "print tstamp"
   ]
  },
  {
   "cell_type": "markdown",
   "metadata": {},
   "source": [
    "### Saved as DataFrame"
   ]
  },
  {
   "cell_type": "code",
   "execution_count": 45,
   "metadata": {},
   "outputs": [],
   "source": [
    "gsm=pd.DataFrame(data,columns=['l','m','clm','slm','errclm','errslm'])"
   ]
  },
  {
   "cell_type": "code",
   "execution_count": 46,
   "metadata": {},
   "outputs": [
    {
     "data": {
      "text/html": [
       "<div>\n",
       "<style scoped>\n",
       "    .dataframe tbody tr th:only-of-type {\n",
       "        vertical-align: middle;\n",
       "    }\n",
       "\n",
       "    .dataframe tbody tr th {\n",
       "        vertical-align: top;\n",
       "    }\n",
       "\n",
       "    .dataframe thead th {\n",
       "        text-align: right;\n",
       "    }\n",
       "</style>\n",
       "<table border=\"1\" class=\"dataframe\">\n",
       "  <thead>\n",
       "    <tr style=\"text-align: right;\">\n",
       "      <th></th>\n",
       "      <th>l</th>\n",
       "      <th>m</th>\n",
       "      <th>clm</th>\n",
       "      <th>slm</th>\n",
       "      <th>errclm</th>\n",
       "      <th>errslm</th>\n",
       "    </tr>\n",
       "  </thead>\n",
       "  <tbody>\n",
       "    <tr>\n",
       "      <th>0</th>\n",
       "      <td>0.0</td>\n",
       "      <td>0.0</td>\n",
       "      <td>1.000000e+00</td>\n",
       "      <td>0.0</td>\n",
       "      <td>0.000000e+00</td>\n",
       "      <td>0.0</td>\n",
       "    </tr>\n",
       "    <tr>\n",
       "      <th>1</th>\n",
       "      <td>1.0</td>\n",
       "      <td>0.0</td>\n",
       "      <td>0.000000e+00</td>\n",
       "      <td>0.0</td>\n",
       "      <td>0.000000e+00</td>\n",
       "      <td>0.0</td>\n",
       "    </tr>\n",
       "    <tr>\n",
       "      <th>2</th>\n",
       "      <td>2.0</td>\n",
       "      <td>0.0</td>\n",
       "      <td>-4.841695e-04</td>\n",
       "      <td>0.0</td>\n",
       "      <td>1.711000e-11</td>\n",
       "      <td>0.0</td>\n",
       "    </tr>\n",
       "    <tr>\n",
       "      <th>3</th>\n",
       "      <td>3.0</td>\n",
       "      <td>0.0</td>\n",
       "      <td>9.570992e-07</td>\n",
       "      <td>0.0</td>\n",
       "      <td>1.147000e-12</td>\n",
       "      <td>0.0</td>\n",
       "    </tr>\n",
       "    <tr>\n",
       "      <th>4</th>\n",
       "      <td>4.0</td>\n",
       "      <td>0.0</td>\n",
       "      <td>5.398711e-07</td>\n",
       "      <td>0.0</td>\n",
       "      <td>5.737000e-13</td>\n",
       "      <td>0.0</td>\n",
       "    </tr>\n",
       "  </tbody>\n",
       "</table>\n",
       "</div>"
      ],
      "text/plain": [
       "     l    m           clm  slm        errclm  errslm\n",
       "0  0.0  0.0  1.000000e+00  0.0  0.000000e+00     0.0\n",
       "1  1.0  0.0  0.000000e+00  0.0  0.000000e+00     0.0\n",
       "2  2.0  0.0 -4.841695e-04  0.0  1.711000e-11     0.0\n",
       "3  3.0  0.0  9.570992e-07  0.0  1.147000e-12     0.0\n",
       "4  4.0  0.0  5.398711e-07  0.0  5.737000e-13     0.0"
      ]
     },
     "execution_count": 46,
     "metadata": {},
     "output_type": "execute_result"
    }
   ],
   "source": [
    "gsm.head(5)"
   ]
  },
  {
   "cell_type": "markdown",
   "metadata": {},
   "source": [
    "### Sparsity of the spherical harmonic coefficients\n",
    "\n",
    "Storing the dataset in this form saves both memory and storage space due to the nature of spherical harmonic coefficients. To demostrate the sparse matrix if one want to store the degree (`l`) and order (`m`) in a matrix of size `[l,m]`, I transform the dataframe to matrix. The plot is showing the 2-D heatmap of the matrix to show the sparsity of the matrix. "
   ]
  },
  {
   "cell_type": "code",
   "execution_count": 125,
   "metadata": {},
   "outputs": [
    {
     "data": {
      "image/png": "[encoded data removed]",
      "text/plain": [
       "<matplotlib.figure.Figure at 0x109818990>"
      ]
     },
     "metadata": {},
     "output_type": "display_data"
    }
   ],
   "source": [
    "import matplotlib.colors as colors\n",
    "import matplotlib.pyplot as plt\n",
    "import seaborn as sns\n",
    "\n",
    "def toMatrix(x,y,data):\n",
    "    nx=int(np.max(x)+1)\n",
    "    ny=int(np.max(y)+1)\n",
    "    matrix=np.zeros([nx,ny],dtype=np.float64)\n",
    "    for i in range(len(x)):\n",
    "        matrix[int(x[i]),int(y[i])]=data[i]\n",
    "    return matrix\n",
    "\n",
    "slm=toMatrix(gsm.l,gsm.m,gsm.slm)\n",
    "slmamp=np.abs(slm)\n",
    "clm=toMatrix(gsm.l,gsm.m,gsm.clm)\n",
    "clmamp=np.abs(clm)\n",
    "\n",
    "fig=plt.figure(figsize=[8,5])\n",
    "ax1=fig.add_axes([0,0,0.8,1])\n",
    "ax2=fig.add_axes([0.9,0,0.8,1])\n",
    "\n",
    "sns.heatmap(slmamp,norm=colors.SymLogNorm(linthresh=1E-10\n",
    "            ,vmin=slmamp.min(), vmax=slmamp.max()),cmap='YlOrRd',cbar=False,ax=ax1)\n",
    "sns.heatmap(clmamp,norm=colors.SymLogNorm(linthresh=1E-10\n",
    "            ,vmin=clmamp.min(), vmax=clmamp.max()),cmap='YlOrRd',cbar=False,ax=ax2)\n",
    "\n",
    "ax1.set_xlabel('degree (l)')\n",
    "ax1.set_ylabel('order (m)')\n",
    "ax1.invert_yaxis()\n",
    "ax2.set_xlabel('degree (l)')\n",
    "ax2.set_ylabel('order (m)')\n",
    "ax2.invert_yaxis()"
   ]
  },
  {
   "cell_type": "markdown",
   "metadata": {},
   "source": [
    "As one can see, only half of the matrix is occupied. In other words, falf of the matrix is just storing the value zeros which can be really redundant.\n",
    "\n",
    "---\n",
    "\n",
    "### Convert the spherical harmonics to the spatial domain \n",
    "\n",
    "This part is following the equation 9 in [Wahr and Molenaar, 1998](https://agupubs.onlinelibrary.wiley.com/doi/10.1029/98JB02844) \n",
    "\n",
    "$$\\Delta \\sigma (\\theta,\\phi)=\\alpha\\rho_w \\sum^\\infty_{l=0}\\sum^l_{m=0} \\tilde{P}_{lm}(\\cos \\theta)\n",
    "(\\Delta \\hat{C}_{lm} \\cos(m\\phi)+\\Delta \\hat{S}_{lm} \\sin(m\\phi))$$\n",
    "\n",
    "where $\\sigma$ represent the surface mass density in $kg/m^2$, $\\theta$ and $\\phi$ are the longitude and the colatitude in radians respectively, $\\alpha$ is the Earth radius in $m$, $\\rho_w$ is the water density in $kg/m^3$, $\\tilde{P}_{lm}$ is the assoicated Legendre polynomials, and $\\hat{C}_{lm}$ and $\\hat{S}_{lm}$ are the spherical harmonic coefficients.  \n",
    "\n",
    "Though the equation seems a little intimidating, there is only two things we need to focus on. The rest of the symbols are all constant or function we can directly determined.\n",
    "* The $\\Delta$ symbol \n",
    "* The $\\hat{C}_{lm}$ and $\\hat{S}_{lm}$ which is the spherical harmonic coefficients representing the surface mass density\n",
    "\n",
    "\n",
    "Due to the setup of the GRACE satellite data, it can only observed the changes relative to a certain mean value. Therefore, the $\\Delta$ value can change based on the mean value one choose to removed. Usually, we can simply subtract the mean value over the period of study, which $\\Delta$ value would than represent the anomalies over the period. \n",
    "\n",
    "Spherical harmonic coefficients of the surface mass density unforturnatly cannot be observed by GRACE. The data that we just downloaded is the Spherical harmonic coefficients of the representing the geoid height changes (a equi-geopotential height changes). Furturnately, by assuming the geoid height can only be reflected by the mass changes at the Earth surface in the form of water and the associated elastic rebound, there is a simply convertiong between the two physical variables. \n",
    "\n",
    "\n"
   ]
  },
  {
   "cell_type": "code",
   "execution_count": null,
   "metadata": {},
   "outputs": [],
   "source": []
  }
 ],
 "metadata": {
  "kernelspec": {
   "display_name": "Python 2",
   "language": "python",
   "name": "python2"
  },
  "language_info": {
   "codemirror_mode": {
    "name": "ipython",
    "version": 2
   },
   "file_extension": ".py",
   "mimetype": "text/x-python",
   "name": "python",
   "nbconvert_exporter": "python",
   "pygments_lexer": "ipython2",
   "version": "2.7.13"
  }
 },
 "nbformat": 4,
 "nbformat_minor": 2
}
